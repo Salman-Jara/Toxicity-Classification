{
  "cells": [
    {
      "cell_type": "code",
      "source": [
        "!pip install torch\n",
        "!pip install transformers\n",
        "!pip install pandas"
      ],
      "metadata": {
        "colab": {
          "base_uri": "https://localhost:8080/"
        },
        "id": "iHTNmmyzjpRz",
        "outputId": "e9927c5a-3f5e-458e-c861-8db5f6f4c39a"
      },
      "execution_count": null,
      "outputs": [
        {
          "output_type": "stream",
          "name": "stdout",
          "text": [
            "Requirement already satisfied: torch in /usr/local/lib/python3.10/dist-packages (2.1.0+cu118)\n",
            "Requirement already satisfied: filelock in /usr/local/lib/python3.10/dist-packages (from torch) (3.13.1)\n",
            "Requirement already satisfied: typing-extensions in /usr/local/lib/python3.10/dist-packages (from torch) (4.5.0)\n",
            "Requirement already satisfied: sympy in /usr/local/lib/python3.10/dist-packages (from torch) (1.12)\n",
            "Requirement already satisfied: networkx in /usr/local/lib/python3.10/dist-packages (from torch) (3.2.1)\n",
            "Requirement already satisfied: jinja2 in /usr/local/lib/python3.10/dist-packages (from torch) (3.1.2)\n",
            "Requirement already satisfied: fsspec in /usr/local/lib/python3.10/dist-packages (from torch) (2023.6.0)\n",
            "Requirement already satisfied: triton==2.1.0 in /usr/local/lib/python3.10/dist-packages (from torch) (2.1.0)\n",
            "Requirement already satisfied: MarkupSafe>=2.0 in /usr/local/lib/python3.10/dist-packages (from jinja2->torch) (2.1.3)\n",
            "Requirement already satisfied: mpmath>=0.19 in /usr/local/lib/python3.10/dist-packages (from sympy->torch) (1.3.0)\n",
            "Requirement already satisfied: transformers in /usr/local/lib/python3.10/dist-packages (4.35.2)\n",
            "Requirement already satisfied: filelock in /usr/local/lib/python3.10/dist-packages (from transformers) (3.13.1)\n",
            "Requirement already satisfied: huggingface-hub<1.0,>=0.16.4 in /usr/local/lib/python3.10/dist-packages (from transformers) (0.19.4)\n",
            "Requirement already satisfied: numpy>=1.17 in /usr/local/lib/python3.10/dist-packages (from transformers) (1.23.5)\n",
            "Requirement already satisfied: packaging>=20.0 in /usr/local/lib/python3.10/dist-packages (from transformers) (23.2)\n",
            "Requirement already satisfied: pyyaml>=5.1 in /usr/local/lib/python3.10/dist-packages (from transformers) (6.0.1)\n",
            "Requirement already satisfied: regex!=2019.12.17 in /usr/local/lib/python3.10/dist-packages (from transformers) (2023.6.3)\n",
            "Requirement already satisfied: requests in /usr/local/lib/python3.10/dist-packages (from transformers) (2.31.0)\n",
            "Requirement already satisfied: tokenizers<0.19,>=0.14 in /usr/local/lib/python3.10/dist-packages (from transformers) (0.15.0)\n",
            "Requirement already satisfied: safetensors>=0.3.1 in /usr/local/lib/python3.10/dist-packages (from transformers) (0.4.1)\n",
            "Requirement already satisfied: tqdm>=4.27 in /usr/local/lib/python3.10/dist-packages (from transformers) (4.66.1)\n",
            "Requirement already satisfied: fsspec>=2023.5.0 in /usr/local/lib/python3.10/dist-packages (from huggingface-hub<1.0,>=0.16.4->transformers) (2023.6.0)\n",
            "Requirement already satisfied: typing-extensions>=3.7.4.3 in /usr/local/lib/python3.10/dist-packages (from huggingface-hub<1.0,>=0.16.4->transformers) (4.5.0)\n",
            "Requirement already satisfied: charset-normalizer<4,>=2 in /usr/local/lib/python3.10/dist-packages (from requests->transformers) (3.3.2)\n",
            "Requirement already satisfied: idna<4,>=2.5 in /usr/local/lib/python3.10/dist-packages (from requests->transformers) (3.6)\n",
            "Requirement already satisfied: urllib3<3,>=1.21.1 in /usr/local/lib/python3.10/dist-packages (from requests->transformers) (2.0.7)\n",
            "Requirement already satisfied: certifi>=2017.4.17 in /usr/local/lib/python3.10/dist-packages (from requests->transformers) (2023.11.17)\n",
            "Requirement already satisfied: pandas in /usr/local/lib/python3.10/dist-packages (1.5.3)\n",
            "Requirement already satisfied: python-dateutil>=2.8.1 in /usr/local/lib/python3.10/dist-packages (from pandas) (2.8.2)\n",
            "Requirement already satisfied: pytz>=2020.1 in /usr/local/lib/python3.10/dist-packages (from pandas) (2023.3.post1)\n",
            "Requirement already satisfied: numpy>=1.21.0 in /usr/local/lib/python3.10/dist-packages (from pandas) (1.23.5)\n",
            "Requirement already satisfied: six>=1.5 in /usr/local/lib/python3.10/dist-packages (from python-dateutil>=2.8.1->pandas) (1.16.0)\n"
          ]
        }
      ]
    },
    {
      "cell_type": "code",
      "source": [
        "from google.colab import drive\n",
        "drive.mount('/content/drive')"
      ],
      "metadata": {
        "colab": {
          "base_uri": "https://localhost:8080/"
        },
        "id": "n_mx1_Hl1z97",
        "outputId": "6b4913ec-9707-4a70-b4fa-9ada4ecb73d6"
      },
      "execution_count": null,
      "outputs": [
        {
          "output_type": "stream",
          "name": "stdout",
          "text": [
            "Mounted at /content/drive\n"
          ]
        }
      ]
    },
    {
      "cell_type": "markdown",
      "source": [
        "## Importing Libraries\n",
        "\n",
        "Some usefull libraries that we will be using throught out the notebook.\n"
      ],
      "metadata": {
        "id": "gFz7wxRF6MgB"
      }
    },
    {
      "cell_type": "code",
      "source": [
        "import torch\n",
        "from torch.utils.data import DataLoader, Dataset\n",
        "from transformers import DistilBertTokenizer, DistilBertForSequenceClassification, BertConfig\n",
        "from sklearn.metrics import accuracy_score, classification_report\n",
        "from sklearn.metrics import multilabel_confusion_matrix, roc_curve, auc, roc_auc_score\n",
        "\n",
        "import matplotlib.pyplot as plt\n",
        "from tqdm import tqdm\n",
        "import pandas as pd\n",
        "import numpy as np"
      ],
      "metadata": {
        "id": "tJVeh-hq1E1G"
      },
      "execution_count": null,
      "outputs": []
    },
    {
      "cell_type": "markdown",
      "source": [
        "## Reading Data"
      ],
      "metadata": {
        "id": "zHq8F0Li6S2a"
      }
    },
    {
      "cell_type": "code",
      "source": [
        "df_train = pd.read_csv(\"/content/drive/MyDrive/ML Project Dataset/train.csv\",on_bad_lines=\"skip\")\n",
        "df_test_label = pd.read_csv(\"/content/drive/MyDrive/ML Project Dataset/test_labels.csv\",on_bad_lines=\"skip\")\n",
        "df_test_feature = pd.read_csv(\"/content/drive/MyDrive/ML Project Dataset/test.csv\",on_bad_lines=\"skip\")\n",
        "\n",
        "df_test = df_test_feature.merge(df_test_label, on='id', how='inner')\n",
        "\n",
        "df_test = df_test[df_test['toxic'] != -1]\n",
        "\n",
        "train_df = df_train.drop(['id'], axis=1)\n",
        "test_df = df_test.drop(['id'], axis=1)"
      ],
      "metadata": {
        "id": "q_hTkJZ61HYL"
      },
      "execution_count": null,
      "outputs": []
    },
    {
      "cell_type": "markdown",
      "source": [
        "## Creating Batches of Data\n",
        "\n",
        "created Custom Class to apply tokenizer on our dataset and return as dictionary that wil contain input Ids , attention mask and labels.\n",
        "\n",
        "- initialized toketiner and model\n",
        "\n",
        "- created Custom class object for train and test data\n",
        " - tokenzier will add special token\n",
        "\n",
        "   - [CLS] (Classification Token): This token is added to the beginning of each sequence.\n",
        "\n",
        "   - [SEP] (Separator Token):  BERT processes pairs of sentences, and [SEP] is used to separate these pairs.\n",
        "\n",
        "   - [PAD] (Padding Token): BERT processes input sequences of variable length in batches. To ensure that all sequences in a batch have the same length, padding tokens [PAD] are added to shorter sequences.\n",
        "\n",
        "  - Truncate Token: The token of sentence greater then max_len will be truncated.\n",
        "\n",
        "  - padding: if the token of sentence is less then max_len it will pad upto the max_len to make equal lenght input for model.\n",
        "\n",
        "  - return input Ids and attention mask.\n",
        "\n",
        "   -  input Ids will represent token in tokenizer vocabulary\n",
        "\n",
        "   - The attention mask is usually a matrix of shape (batch_size, sequence_length) for our case (8,128), where each element is either 0 or 1. A value of 1 indicates that the corresponding token is not a padding token and should be attended to, while a value of 0 indicates that the token is a padding token and should be ignored.\n",
        "\n",
        "      - The attention mask in models like BERT is applied to input embeddings, aiding in distinguishing real tokens from padding tokens. This ensures that the attention mechanism excludes padding tokens during computation, preventing inaccuracies in representation caused by irrelevant padding.\n",
        "\n",
        "  example:\n",
        "\n",
        "    - text: \"toxic world!\"\n",
        "\n",
        "    - tokens: ['toxic', 'world', '!']\n",
        "\n",
        "    - input_ids: [  101, 11704,  2088,   999,   102,     0,     0,     0,     0,     0]\n",
        "\n",
        "    - text after decoding: [CLS] toxic world! [SEP] [PAD] [PAD] [PAD] [PAD] [PAD]\n",
        "\n",
        "    - attention mask: [1, 1, 1, 1, 1, 0, 0, 0, 0, 0]\n",
        "\n",
        "\n",
        "- passed custom class object with batch size and suffle data(True: Suffle Data randomly,False: don't suffle) to DataLoader that will return us whole data in bachtes form so we can pass that data to model as a Batch.\n",
        "\n",
        "\n",
        "\n"
      ],
      "metadata": {
        "id": "PMmkXgfq6aGi"
      }
    },
    {
      "cell_type": "code",
      "source": [
        "class CustomDataset(Dataset):\n",
        "    def __init__(self, texts, labels, tokenizer, max_len):\n",
        "        self.texts = texts\n",
        "        self.labels = labels\n",
        "        self.tokenizer = tokenizer\n",
        "        self.max_len = max_len\n",
        "\n",
        "    def __len__(self):\n",
        "        return len(self.texts)\n",
        "\n",
        "    def __getitem__(self, idx):\n",
        "        text = str(self.texts[idx])\n",
        "        label = torch.tensor(self.labels[idx], dtype=torch.float32)\n",
        "\n",
        "        encoding = self.tokenizer(\n",
        "            text,\n",
        "            add_special_tokens=True,\n",
        "            truncation=True,\n",
        "            max_length=self.max_len,\n",
        "            padding=\"max_length\",\n",
        "            return_tensors=\"pt\",\n",
        "        )\n",
        "\n",
        "        return {\n",
        "            \"input_ids\": encoding[\"input_ids\"].flatten(),\n",
        "            \"attention_mask\": encoding[\"attention_mask\"].flatten(),\n",
        "            \"labels\": label,\n",
        "        }\n",
        "\n",
        "# initialied Tokenizer and model from pretrained Bert Model\n",
        "tokenizer = DistilBertTokenizer.from_pretrained(\"/content/drive/MyDrive/BertModel\")\n",
        "model = DistilBertForSequenceClassification.from_pretrained(\n",
        "    \"distilbert-base-uncased\", num_labels=6\n",
        ")\n",
        "\n",
        "\n",
        "max_len = 128\n",
        "train_dataset = CustomDataset(\n",
        "    texts=train_df[\"comment_text\"].values,\n",
        "    labels=train_df.iloc[:, 1:].values,\n",
        "    tokenizer=tokenizer,\n",
        "    max_len=max_len,\n",
        ")\n",
        "\n",
        "test_dataset = CustomDataset(\n",
        "    texts=test_df[\"comment_text\"].values,\n",
        "    labels=test_df.iloc[:, 1:].values,\n",
        "    tokenizer=tokenizer,\n",
        "    max_len=max_len,\n",
        ")\n",
        "\n",
        "\n",
        "train_loader = DataLoader(train_dataset, batch_size=8, shuffle=True)\n",
        "test_loader = DataLoader(test_dataset, batch_size=8, shuffle=False)"
      ],
      "metadata": {
        "colab": {
          "base_uri": "https://localhost:8080/",
          "height": 136,
          "referenced_widgets": [
            "b0a11fd5ccb543b48aa265a5f74f50f3",
            "2edefa356c504203bd325eac4e944054",
            "1ac58415a23246d2991a533c824c4c8a",
            "ea06c65aad644b1c86c26a6bbc80ecba",
            "d37a3794c7d34d24835c79359b39122a",
            "bb13e20267954b519d021cc14fc2f899",
            "9a94548c2d634f4c9b2c1960c6784b2f",
            "67f348dfc9394c2fa82001015dd56c1d",
            "5c08dfe7b3464a6e9e44545052de207e",
            "06c5e72c30f9464c9bc878d7801bbcfd",
            "e8deed29093c481cb17c6de904baf40e",
            "49b531bd6ec440bc9945224c2c39e4b1",
            "ee54877025da496a8e262ffb08b51ca0",
            "99ffcbf816ba44ec85803b001af52620",
            "70306d4fba4c4a19b019d7939d9bce60",
            "0a4fd39d5bc64820b86284b2a6f8e495",
            "8a3264411ada405789e0ac5fc261a76d",
            "0be00c292d11441d90edf8f3e002dace",
            "9208fe2da02146758cee506e38c4351e",
            "4059ff0f6eab4111ae7e2676aec39384",
            "cc35f498caa24c08ae246bb05c05fb68",
            "20b77f94f1ff4d198c2139e5198ab942"
          ]
        },
        "id": "imZmAmjhj3EH",
        "outputId": "986b0bff-beff-4716-9a54-2f5d861d0509"
      },
      "execution_count": null,
      "outputs": [
        {
          "output_type": "display_data",
          "data": {
            "text/plain": [
              "config.json:   0%|          | 0.00/483 [00:00<?, ?B/s]"
            ],
            "application/vnd.jupyter.widget-view+json": {
              "version_major": 2,
              "version_minor": 0,
              "model_id": "b0a11fd5ccb543b48aa265a5f74f50f3"
            }
          },
          "metadata": {}
        },
        {
          "output_type": "display_data",
          "data": {
            "text/plain": [
              "model.safetensors:   0%|          | 0.00/268M [00:00<?, ?B/s]"
            ],
            "application/vnd.jupyter.widget-view+json": {
              "version_major": 2,
              "version_minor": 0,
              "model_id": "49b531bd6ec440bc9945224c2c39e4b1"
            }
          },
          "metadata": {}
        },
        {
          "output_type": "stream",
          "name": "stderr",
          "text": [
            "Some weights of DistilBertForSequenceClassification were not initialized from the model checkpoint at distilbert-base-uncased and are newly initialized: ['classifier.bias', 'pre_classifier.weight', 'classifier.weight', 'pre_classifier.bias']\n",
            "You should probably TRAIN this model on a down-stream task to be able to use it for predictions and inference.\n"
          ]
        }
      ]
    },
    {
      "cell_type": "markdown",
      "source": [
        "- AdamW Optimizer:\n",
        "    \n",
        "  we prefer using AdamW as the optimizer for this multilabel classification tasks, particularly this is great choice when working with transformer-based models such as BERT. The main advantage lies in the fact that AdamW is essentially an enhancement of the Adam optimizer, featuring a weight decay term. This incorporation of weight decay, a form of L2 regularization, is pivotal in mitigating overfitting by imposing penalties on large weights within the model.\n",
        "- loss Function:\n",
        "\n",
        "  we are not using any loss function here explicitly, just using the loss returned by model itself for backword pass. But if we see the implementation of DistilBertSequenceClassification they are using BCEWithLogitsLoss(Binary Cross Entropy with Logits) for multilable classification.\n",
        "\n",
        "  In the case of multilabel classification, the sigmoid activation function is often applied to the logits to produce probabilities for each class independently and Binary cross entropy loss. BCEWithLogitsLoss combines the sigmoid activation and the binary cross-entropy loss calculation .\n"
      ],
      "metadata": {
        "id": "yjhbo1v1Wiqc"
      }
    },
    {
      "cell_type": "code",
      "source": [
        "device = torch.device(\"cuda\" if torch.cuda.is_available() else \"cpu\")\n",
        "\n",
        "model.to(device)\n",
        "\n",
        "optimizer = torch.optim.AdamW(model.parameters(), lr=0.00002)\n",
        "num_epochs = 3\n",
        "\n",
        "for epoch in range(num_epochs):\n",
        "    model.train()\n",
        "    total_loss = 0\n",
        "\n",
        "    for batch in tqdm(train_loader, desc=f\"Epoch {epoch + 1}/{num_epochs}\"):\n",
        "        input_ids = batch[\"input_ids\"].to(device)\n",
        "        attention_mask = batch[\"attention_mask\"].to(device)\n",
        "        labels = batch[\"labels\"].to(device)\n",
        "\n",
        "        optimizer.zero_grad()\n",
        "\n",
        "        outputs = model(\n",
        "            input_ids=input_ids,\n",
        "            attention_mask=attention_mask,\n",
        "            labels=labels,\n",
        "        )\n",
        "\n",
        "        loss = outputs.loss\n",
        "        total_loss += loss.item()\n",
        "\n",
        "        loss.backward()\n",
        "        optimizer.step()\n",
        "\n",
        "    average_loss = total_loss / len(train_loader)\n",
        "\n",
        "    print(f\"Epoch {epoch + 1}/{num_epochs}, Loss: {average_loss}\")\n"
      ],
      "metadata": {
        "id": "BLAJgMs3kCfj"
      },
      "execution_count": null,
      "outputs": []
    },
    {
      "cell_type": "markdown",
      "source": [
        "Saving our Trained Model for Future Use."
      ],
      "metadata": {
        "id": "gvrXn7LX1h2H"
      }
    },
    {
      "cell_type": "code",
      "source": [
        "output_dir = \"./FineTunedModel\"\n",
        "model.save_pretrained(output_dir)\n",
        "tokenizer.save_pretrained(output_dir)"
      ],
      "metadata": {
        "colab": {
          "base_uri": "https://localhost:8080/"
        },
        "id": "1w5__nFYoGIk",
        "outputId": "a482fdfa-7148-4c21-d599-d644d1a48425"
      },
      "execution_count": null,
      "outputs": [
        {
          "output_type": "execute_result",
          "data": {
            "text/plain": [
              "('./FineTunedModel/tokenizer_config.json',\n",
              " './FineTunedModel/special_tokens_map.json',\n",
              " './FineTunedModel/vocab.txt',\n",
              " './FineTunedModel/added_tokens.json')"
            ]
          },
          "metadata": {},
          "execution_count": 7
        }
      ]
    },
    {
      "cell_type": "markdown",
      "source": [
        "Initialized Tokenizer and Model from our trained model."
      ],
      "metadata": {
        "id": "5Ndxm-an1psB"
      }
    },
    {
      "cell_type": "code",
      "source": [
        "model_name = \"/content/drive/MyDrive/BertModel\"\n",
        "Bert_Tokenizer = DistilBertTokenizer.from_pretrained(model_name)\n",
        "Bert_Model = DistilBertForSequenceClassification.from_pretrained(model_name)#.to(device)"
      ],
      "metadata": {
        "id": "jpKJ5ewEoHjj"
      },
      "execution_count": null,
      "outputs": []
    },
    {
      "cell_type": "markdown",
      "source": [
        "Evaluated Our model on Testing Data and printed accuracy score and classification report that's contain Precision,Recall and F1-Score of all classes with micro, macro, weighted and sample average."
      ],
      "metadata": {
        "id": "tBtKFomv10vB"
      }
    },
    {
      "cell_type": "code",
      "source": [
        "device = torch.device(\"cuda\" if torch.cuda.is_available() else \"cpu\")\n",
        "\n",
        "# Evaluate the model\n",
        "model.eval()\n",
        "predictions = []\n",
        "true_labels = []\n",
        "\n",
        "Bert_Model.to(device)\n",
        "\n",
        "with torch.no_grad():\n",
        "    for batch in tqdm(test_loader, desc=\"Evaluating\"):\n",
        "        input_ids = batch[\"input_ids\"].to(device)\n",
        "        attention_mask = batch[\"attention_mask\"].to(device)\n",
        "        labels = batch[\"labels\"].cpu().numpy()\n",
        "\n",
        "        outputs = Bert_Model(input_ids=input_ids, attention_mask=attention_mask)\n",
        "\n",
        "        logits = outputs.logits\n",
        "        logits = torch.sigmoid(logits)\n",
        "        predictions.extend(logits.cpu().numpy())\n",
        "        true_labels.extend(labels)\n",
        "\n",
        "prob = np.array(predictions)\n",
        "\n",
        "predictions = (np.array(predictions) > 0.5).astype(int)\n",
        "true_labels = np.array(true_labels)\n",
        "\n",
        "# Calculate metrics\n",
        "accuracy = accuracy_score(true_labels, predictions)\n",
        "classification_rep = classification_report(true_labels, predictions, target_names=['toxic', 'severe_toxic', 'obscene', 'threat', 'insult', 'identity_hate'])\n",
        "\n",
        "print(f\"Accuracy: {accuracy}\")\n",
        "print(classification_rep)"
      ],
      "metadata": {
        "colab": {
          "base_uri": "https://localhost:8080/"
        },
        "id": "L0WDEHNSoYR6",
        "outputId": "619eb0c9-55bd-462b-e531-0ec146ddf005"
      },
      "execution_count": null,
      "outputs": [
        {
          "output_type": "stream",
          "name": "stderr",
          "text": [
            "Evaluating: 100%|██████████| 7998/7998 [05:43<00:00, 23.28it/s]\n"
          ]
        },
        {
          "output_type": "stream",
          "name": "stdout",
          "text": [
            "Accuracy: 0.8701272312357373\n",
            "               precision    recall  f1-score   support\n",
            "\n",
            "        toxic       0.53      0.90      0.67      6090\n",
            " severe_toxic       0.41      0.31      0.35       367\n",
            "      obscene       0.56      0.85      0.67      3691\n",
            "       threat       0.42      0.63      0.50       211\n",
            "       insult       0.68      0.72      0.70      3427\n",
            "identity_hate       0.63      0.61      0.62       712\n",
            "\n",
            "    micro avg       0.56      0.81      0.67     14498\n",
            "    macro avg       0.54      0.67      0.59     14498\n",
            " weighted avg       0.57      0.81      0.66     14498\n",
            "  samples avg       0.08      0.08      0.07     14498\n",
            "\n"
          ]
        },
        {
          "output_type": "stream",
          "name": "stderr",
          "text": [
            "/usr/local/lib/python3.10/dist-packages/sklearn/metrics/_classification.py:1344: UndefinedMetricWarning: Precision and F-score are ill-defined and being set to 0.0 in samples with no predicted labels. Use `zero_division` parameter to control this behavior.\n",
            "  _warn_prf(average, modifier, msg_start, len(result))\n",
            "/usr/local/lib/python3.10/dist-packages/sklearn/metrics/_classification.py:1344: UndefinedMetricWarning: Recall and F-score are ill-defined and being set to 0.0 in samples with no true labels. Use `zero_division` parameter to control this behavior.\n",
            "  _warn_prf(average, modifier, msg_start, len(result))\n"
          ]
        }
      ]
    },
    {
      "cell_type": "markdown",
      "source": [
        "\n",
        "***DistilBERT architecture***\n",
        "\n",
        "On Right side we have DistilBERT architecture that get tokenize text as input and then apply Embedding Layer with 6 Transformer Layer and at the End Fully Connected Layer to get Predictions for 6 classes.\n",
        "\n",
        "<img src=\"https://www.researchgate.net/profile/Alhassan-Mabrouk/publication/358239462/figure/fig2/AS:1120931644747777@1644262338087/The-DistilBERT-model-architecture-and-components.png\" alt=\"DistilBert Architecture\">\n",
        "\n",
        "****\n",
        "## Distil Bert Model:\n",
        "  - Embedding:\n",
        "      - word Embedding:\n",
        "      \n",
        "        layer dimension: (vocab_sze,hidden size) -> (30522,768)\n",
        "\n",
        "        input (batch_size,max_len) -> (8,128)\n",
        "\n",
        "        output (Batch_size,max_len,hidden size) -> (8,128,768)\n",
        "\n",
        "      - position Embedding:\n",
        "      \n",
        "        layer dimension (bert_max_len,hidden size) -> (512,768)\n",
        "\n",
        "        output (1,max_len,hidden size) -> (1,128,768)\n",
        "\n",
        "      - both will be added and make (8,128,768) + (1,128,768) -> (8,128,768)\n",
        "\n",
        "      - Layer Normalization: (hidden size) -> (768)\n",
        "\n",
        "      - Dropout: drop with p=0.1\n",
        "\n",
        "  - 6 * Transformer (six transformer layers):\n",
        "\n",
        "      - MultiHeadAttention(12 heads):\n",
        "        - Linear Layer for Query, Key and Value\n",
        "        - Dot product of Query and Key\n",
        "        - divide with dimension sqrt\n",
        "        - applied softmax\n",
        "        - dropout with p=0.1\n",
        "        - now apply dot product of this output with value\n",
        "        - conatenate whole head\n",
        "        - linear layer\n",
        "        - apply dropout with p=0.1\n",
        "        - Residual Connection\n",
        "        - Layer Normalization\n",
        "      - Fully Connected Layer\n",
        "        - dropout with p=0.1\n",
        "        - Linear Layer (hidden Size,3072)\n",
        "        - Linear Layer (3072, hidden Size)\n",
        "        - Gelu Activation.\n",
        "      - Layer Normalization\n",
        "  - Pre-Classifier:\n",
        "      - Linear Layer (hidden Size,hidden Size) -> (768,768)\n",
        "  - DropOut with p=0.1\n",
        "  - Classifier(Prediction Layer):\n",
        "      - Linear Layer (hidden Size,output labels) -> (768,6)\n"
      ],
      "metadata": {
        "id": "vikspSfZMMZS"
      }
    },
    {
      "cell_type": "code",
      "source": [
        "# Compute ROC curve and ROC area for each class\n",
        "y_test_ = np.array(true_labels)\n",
        "fpr = dict()\n",
        "tpr = dict()\n",
        "roc_auc = dict()\n",
        "\n",
        "for i in range(len(['toxic', 'severe_toxic', 'obscene', 'threat', 'insult', 'identity_hate'])):\n",
        "    fpr[i], tpr[i], _ = roc_curve(y_test_[:, i], predictions[:, i])\n",
        "    roc_auc[i] = auc(fpr[i], tpr[i])\n",
        "\n",
        "# ROC curve for each class\n",
        "plt.figure(figsize=(10, 7))\n",
        "for i, label in enumerate(['toxic', 'severe_toxic', 'obscene', 'threat', 'insult', 'identity_hate']):\n",
        "    plt.plot(fpr[i], tpr[i], label=f'{label} (AUC = {roc_auc[i]:.2f})')\n",
        "\n",
        "plt.plot([0, 1], [0, 1], 'k--')  # Diagonal line for random classifier\n",
        "plt.xlim([0.0, 1.0])\n",
        "plt.ylim([0.0, 1.0])\n",
        "plt.xlabel('False Positive Rate')\n",
        "plt.ylabel('True Positive Rate')\n",
        "plt.title('ROC Curve for Multi-label Classification')\n",
        "plt.legend(loc=\"lower right\")\n",
        "plt.show()\n"
      ],
      "metadata": {
        "colab": {
          "base_uri": "https://localhost:8080/",
          "height": 641
        },
        "id": "LgdXY7kkTbgU",
        "outputId": "a5cbde74-ffb5-4c78-d3ac-6ce1fab8eeb4"
      },
      "execution_count": null,
      "outputs": [
        {
          "output_type": "display_data",
          "data": {
            "text/plain": [
              "<Figure size 1000x700 with 1 Axes>"
            ],
            "image/png": "[encoded data removed]"
          },
          "metadata": {}
        }
      ]
    },
    {
      "cell_type": "markdown",
      "source": [
        "**Testing Our Model with some comment**"
      ],
      "metadata": {
        "id": "l_rJwvtwsZY9"
      }
    },
    {
      "cell_type": "code",
      "source": [
        "# Set the model to evaluation mode\n",
        "Bert_Model.eval()\n",
        "\n",
        "def predict_sentence(sentence):\n",
        "    # Tokenize input sentence\n",
        "    inputs = Bert_Tokenizer(sentence, return_tensors=\"pt\")\n",
        "\n",
        "    inputs = {key: value.to(device) for key, value in inputs.items()}\n",
        "\n",
        "    # Forward pass to get logits\n",
        "    with torch.no_grad():\n",
        "        logits = Bert_Model(**inputs).logits\n",
        "\n",
        "    # Apply sigmoid to get probabilities for each class\n",
        "    probabilities = torch.sigmoid(logits)\n",
        "\n",
        "    predicted_labels = (probabilities.cpu().numpy() > 0.5).astype(int)\n",
        "    labels_list = ['toxic', 'severe_toxic', 'obscene','threat', 'insult', 'identity_hate']\n",
        "    result = dict(zip(labels_list, predicted_labels[0]))\n",
        "\n",
        "    return result"
      ],
      "metadata": {
        "id": "W1QVD7fVQ8xx"
      },
      "execution_count": null,
      "outputs": []
    },
    {
      "cell_type": "code",
      "source": [
        "sentences = [\n",
        "    \"You are always so stupid idiot!\",\n",
        "    \"I can't stand your rubbish behaviour , bloody retarted.\",\n",
        "    \"I appreciate your shit feedback.\",\n",
        "    \"I hope you are doing well\",\n",
        "    \"Such an Idiot person!\"\n",
        "]\n",
        "\n",
        "\n",
        "for n in range(5):\n",
        "  print(\"Sentence: \",sentences[n])\n",
        "  predictions = predict_sentence(sentences[n])\n",
        "  print(f\"Predictions: {predictions}\\n\")"
      ],
      "metadata": {
        "colab": {
          "base_uri": "https://localhost:8080/"
        },
        "id": "UlRaANfWmAyf",
        "outputId": "73691118-d176-4c86-8124-9613ef9a0661"
      },
      "execution_count": null,
      "outputs": [
        {
          "output_type": "stream",
          "name": "stdout",
          "text": [
            "Sentence:  You are always so stupid idiot!\n",
            "Predictions: {'toxic': 1, 'severe_toxic': 0, 'obscene': 1, 'threat': 0, 'insult': 1, 'identity_hate': 0}\n",
            "\n",
            "Sentence:  I can't stand your rubbish behaviour , bloody retarted.\n",
            "Predictions: {'toxic': 1, 'severe_toxic': 0, 'obscene': 1, 'threat': 0, 'insult': 1, 'identity_hate': 0}\n",
            "\n",
            "Sentence:  I appreciate your shit feedback.\n",
            "Predictions: {'toxic': 1, 'severe_toxic': 0, 'obscene': 1, 'threat': 0, 'insult': 0, 'identity_hate': 0}\n",
            "\n",
            "Sentence:  I hope you are doing well\n",
            "Predictions: {'toxic': 0, 'severe_toxic': 0, 'obscene': 0, 'threat': 0, 'insult': 0, 'identity_hate': 0}\n",
            "\n",
            "Sentence:  Such an Idiot person!\n",
            "Predictions: {'toxic': 1, 'severe_toxic': 0, 'obscene': 0, 'threat': 0, 'insult': 1, 'identity_hate': 0}\n",
            "\n"
          ]
        }
      ]
    }
  ],
  "metadata": {
    "kernelspec": {
      "display_name": "Python 3",
      "name": "python3"
    },
    "language_info": {
      "codemirror_mode": {
        "name": "ipython",
        "version": 3
      },
      "file_extension": ".py",
      "mimetype": "text/x-python",
      "name": "python",
      "nbconvert_exporter": "python",
      "pygments_lexer": "ipython3",
      "version": "3.11.4"
    },
    "orig_nbformat": 4,
    "colab": {
      "provenance": [],
      "gpuType": "T4"
    },
    "widgets": {
      "application/vnd.jupyter.widget-state+json": {
        "b0a11fd5ccb543b48aa265a5f74f50f3": {
          "model_module": "@jupyter-widgets/controls",
          "model_name": "HBoxModel",
          "model_module_version": "1.5.0",
          "state": {
            "_dom_classes": [],
            "_model_module": "@jupyter-widgets/controls",
            "_model_module_version": "1.5.0",
            "_model_name": "HBoxModel",
            "_view_count": null,
            "_view_module": "@jupyter-widgets/controls",
            "_view_module_version": "1.5.0",
            "_view_name": "HBoxView",
            "box_style": "",
            "children": [
              "IPY_MODEL_2edefa356c504203bd325eac4e944054",
              "IPY_MODEL_1ac58415a23246d2991a533c824c4c8a",
              "IPY_MODEL_ea06c65aad644b1c86c26a6bbc80ecba"
            ],
            "layout": "IPY_MODEL_d37a3794c7d34d24835c79359b39122a"
          }
        },
        "2edefa356c504203bd325eac4e944054": {
          "model_module": "@jupyter-widgets/controls",
          "model_name": "HTMLModel",
          "model_module_version": "1.5.0",
          "state": {
            "_dom_classes": [],
            "_model_module": "@jupyter-widgets/controls",
            "_model_module_version": "1.5.0",
            "_model_name": "HTMLModel",
            "_view_count": null,
            "_view_module": "@jupyter-widgets/controls",
            "_view_module_version": "1.5.0",
            "_view_name": "HTMLView",
            "description": "",
            "description_tooltip": null,
            "layout": "IPY_MODEL_bb13e20267954b519d021cc14fc2f899",
            "placeholder": "​",
            "style": "IPY_MODEL_9a94548c2d634f4c9b2c1960c6784b2f",
            "value": "config.json: 100%"
          }
        },
        "1ac58415a23246d2991a533c824c4c8a": {
          "model_module": "@jupyter-widgets/controls",
          "model_name": "FloatProgressModel",
          "model_module_version": "1.5.0",
          "state": {
            "_dom_classes": [],
            "_model_module": "@jupyter-widgets/controls",
            "_model_module_version": "1.5.0",
            "_model_name": "FloatProgressModel",
            "_view_count": null,
            "_view_module": "@jupyter-widgets/controls",
            "_view_module_version": "1.5.0",
            "_view_name": "ProgressView",
            "bar_style": "success",
            "description": "",
            "description_tooltip": null,
            "layout": "IPY_MODEL_67f348dfc9394c2fa82001015dd56c1d",
            "max": 483,
            "min": 0,
            "orientation": "horizontal",
            "style": "IPY_MODEL_5c08dfe7b3464a6e9e44545052de207e",
            "value": 483
          }
        },
        "ea06c65aad644b1c86c26a6bbc80ecba": {
          "model_module": "@jupyter-widgets/controls",
          "model_name": "HTMLModel",
          "model_module_version": "1.5.0",
          "state": {
            "_dom_classes": [],
            "_model_module": "@jupyter-widgets/controls",
            "_model_module_version": "1.5.0",
            "_model_name": "HTMLModel",
            "_view_count": null,
            "_view_module": "@jupyter-widgets/controls",
            "_view_module_version": "1.5.0",
            "_view_name": "HTMLView",
            "description": "",
            "description_tooltip": null,
            "layout": "IPY_MODEL_06c5e72c30f9464c9bc878d7801bbcfd",
            "placeholder": "​",
            "style": "IPY_MODEL_e8deed29093c481cb17c6de904baf40e",
            "value": " 483/483 [00:00&lt;00:00, 29.8kB/s]"
          }
        },
        "d37a3794c7d34d24835c79359b39122a": {
          "model_module": "@jupyter-widgets/base",
          "model_name": "LayoutModel",
          "model_module_version": "1.2.0",
          "state": {
            "_model_module": "@jupyter-widgets/base",
            "_model_module_version": "1.2.0",
            "_model_name": "LayoutModel",
            "_view_count": null,
            "_view_module": "@jupyter-widgets/base",
            "_view_module_version": "1.2.0",
            "_view_name": "LayoutView",
            "align_content": null,
            "align_items": null,
            "align_self": null,
            "border": null,
            "bottom": null,
            "display": null,
            "flex": null,
            "flex_flow": null,
            "grid_area": null,
            "grid_auto_columns": null,
            "grid_auto_flow": null,
            "grid_auto_rows": null,
            "grid_column": null,
            "grid_gap": null,
            "grid_row": null,
            "grid_template_areas": null,
            "grid_template_columns": null,
            "grid_template_rows": null,
            "height": null,
            "justify_content": null,
            "justify_items": null,
            "left": null,
            "margin": null,
            "max_height": null,
            "max_width": null,
            "min_height": null,
            "min_width": null,
            "object_fit": null,
            "object_position": null,
            "order": null,
            "overflow": null,
            "overflow_x": null,
            "overflow_y": null,
            "padding": null,
            "right": null,
            "top": null,
            "visibility": null,
            "width": null
          }
        },
        "bb13e20267954b519d021cc14fc2f899": {
          "model_module": "@jupyter-widgets/base",
          "model_name": "LayoutModel",
          "model_module_version": "1.2.0",
          "state": {
            "_model_module": "@jupyter-widgets/base",
            "_model_module_version": "1.2.0",
            "_model_name": "LayoutModel",
            "_view_count": null,
            "_view_module": "@jupyter-widgets/base",
            "_view_module_version": "1.2.0",
            "_view_name": "LayoutView",
            "align_content": null,
            "align_items": null,
            "align_self": null,
            "border": null,
            "bottom": null,
            "display": null,
            "flex": null,
            "flex_flow": null,
            "grid_area": null,
            "grid_auto_columns": null,
            "grid_auto_flow": null,
            "grid_auto_rows": null,
            "grid_column": null,
            "grid_gap": null,
            "grid_row": null,
            "grid_template_areas": null,
            "grid_template_columns": null,
            "grid_template_rows": null,
            "height": null,
            "justify_content": null,
            "justify_items": null,
            "left": null,
            "margin": null,
            "max_height": null,
            "max_width": null,
            "min_height": null,
            "min_width": null,
            "object_fit": null,
            "object_position": null,
            "order": null,
            "overflow": null,
            "overflow_x": null,
            "overflow_y": null,
            "padding": null,
            "right": null,
            "top": null,
            "visibility": null,
            "width": null
          }
        },
        "9a94548c2d634f4c9b2c1960c6784b2f": {
          "model_module": "@jupyter-widgets/controls",
          "model_name": "DescriptionStyleModel",
          "model_module_version": "1.5.0",
          "state": {
            "_model_module": "@jupyter-widgets/controls",
            "_model_module_version": "1.5.0",
            "_model_name": "DescriptionStyleModel",
            "_view_count": null,
            "_view_module": "@jupyter-widgets/base",
            "_view_module_version": "1.2.0",
            "_view_name": "StyleView",
            "description_width": ""
          }
        },
        "67f348dfc9394c2fa82001015dd56c1d": {
          "model_module": "@jupyter-widgets/base",
          "model_name": "LayoutModel",
          "model_module_version": "1.2.0",
          "state": {
            "_model_module": "@jupyter-widgets/base",
            "_model_module_version": "1.2.0",
            "_model_name": "LayoutModel",
            "_view_count": null,
            "_view_module": "@jupyter-widgets/base",
            "_view_module_version": "1.2.0",
            "_view_name": "LayoutView",
            "align_content": null,
            "align_items": null,
            "align_self": null,
            "border": null,
            "bottom": null,
            "display": null,
            "flex": null,
            "flex_flow": null,
            "grid_area": null,
            "grid_auto_columns": null,
            "grid_auto_flow": null,
            "grid_auto_rows": null,
            "grid_column": null,
            "grid_gap": null,
            "grid_row": null,
            "grid_template_areas": null,
            "grid_template_columns": null,
            "grid_template_rows": null,
            "height": null,
            "justify_content": null,
            "justify_items": null,
            "left": null,
            "margin": null,
            "max_height": null,
            "max_width": null,
            "min_height": null,
            "min_width": null,
            "object_fit": null,
            "object_position": null,
            "order": null,
            "overflow": null,
            "overflow_x": null,
            "overflow_y": null,
            "padding": null,
            "right": null,
            "top": null,
            "visibility": null,
            "width": null
          }
        },
        "5c08dfe7b3464a6e9e44545052de207e": {
          "model_module": "@jupyter-widgets/controls",
          "model_name": "ProgressStyleModel",
          "model_module_version": "1.5.0",
          "state": {
            "_model_module": "@jupyter-widgets/controls",
            "_model_module_version": "1.5.0",
            "_model_name": "ProgressStyleModel",
            "_view_count": null,
            "_view_module": "@jupyter-widgets/base",
            "_view_module_version": "1.2.0",
            "_view_name": "StyleView",
            "bar_color": null,
            "description_width": ""
          }
        },
        "06c5e72c30f9464c9bc878d7801bbcfd": {
          "model_module": "@jupyter-widgets/base",
          "model_name": "LayoutModel",
          "model_module_version": "1.2.0",
          "state": {
            "_model_module": "@jupyter-widgets/base",
            "_model_module_version": "1.2.0",
            "_model_name": "LayoutModel",
            "_view_count": null,
            "_view_module": "@jupyter-widgets/base",
            "_view_module_version": "1.2.0",
            "_view_name": "LayoutView",
            "align_content": null,
            "align_items": null,
            "align_self": null,
            "border": null,
            "bottom": null,
            "display": null,
            "flex": null,
            "flex_flow": null,
            "grid_area": null,
            "grid_auto_columns": null,
            "grid_auto_flow": null,
            "grid_auto_rows": null,
            "grid_column": null,
            "grid_gap": null,
            "grid_row": null,
            "grid_template_areas": null,
            "grid_template_columns": null,
            "grid_template_rows": null,
            "height": null,
            "justify_content": null,
            "justify_items": null,
            "left": null,
            "margin": null,
            "max_height": null,
            "max_width": null,
            "min_height": null,
            "min_width": null,
            "object_fit": null,
            "object_position": null,
            "order": null,
            "overflow": null,
            "overflow_x": null,
            "overflow_y": null,
            "padding": null,
            "right": null,
            "top": null,
            "visibility": null,
            "width": null
          }
        },
        "e8deed29093c481cb17c6de904baf40e": {
          "model_module": "@jupyter-widgets/controls",
          "model_name": "DescriptionStyleModel",
          "model_module_version": "1.5.0",
          "state": {
            "_model_module": "@jupyter-widgets/controls",
            "_model_module_version": "1.5.0",
            "_model_name": "DescriptionStyleModel",
            "_view_count": null,
            "_view_module": "@jupyter-widgets/base",
            "_view_module_version": "1.2.0",
            "_view_name": "StyleView",
            "description_width": ""
          }
        },
        "49b531bd6ec440bc9945224c2c39e4b1": {
          "model_module": "@jupyter-widgets/controls",
          "model_name": "HBoxModel",
          "model_module_version": "1.5.0",
          "state": {
            "_dom_classes": [],
            "_model_module": "@jupyter-widgets/controls",
            "_model_module_version": "1.5.0",
            "_model_name": "HBoxModel",
            "_view_count": null,
            "_view_module": "@jupyter-widgets/controls",
            "_view_module_version": "1.5.0",
            "_view_name": "HBoxView",
            "box_style": "",
            "children": [
              "IPY_MODEL_ee54877025da496a8e262ffb08b51ca0",
              "IPY_MODEL_99ffcbf816ba44ec85803b001af52620",
              "IPY_MODEL_70306d4fba4c4a19b019d7939d9bce60"
            ],
            "layout": "IPY_MODEL_0a4fd39d5bc64820b86284b2a6f8e495"
          }
        },
        "ee54877025da496a8e262ffb08b51ca0": {
          "model_module": "@jupyter-widgets/controls",
          "model_name": "HTMLModel",
          "model_module_version": "1.5.0",
          "state": {
            "_dom_classes": [],
            "_model_module": "@jupyter-widgets/controls",
            "_model_module_version": "1.5.0",
            "_model_name": "HTMLModel",
            "_view_count": null,
            "_view_module": "@jupyter-widgets/controls",
            "_view_module_version": "1.5.0",
            "_view_name": "HTMLView",
            "description": "",
            "description_tooltip": null,
            "layout": "IPY_MODEL_8a3264411ada405789e0ac5fc261a76d",
            "placeholder": "​",
            "style": "IPY_MODEL_0be00c292d11441d90edf8f3e002dace",
            "value": "model.safetensors: 100%"
          }
        },
        "99ffcbf816ba44ec85803b001af52620": {
          "model_module": "@jupyter-widgets/controls",
          "model_name": "FloatProgressModel",
          "model_module_version": "1.5.0",
          "state": {
            "_dom_classes": [],
            "_model_module": "@jupyter-widgets/controls",
            "_model_module_version": "1.5.0",
            "_model_name": "FloatProgressModel",
            "_view_count": null,
            "_view_module": "@jupyter-widgets/controls",
            "_view_module_version": "1.5.0",
            "_view_name": "ProgressView",
            "bar_style": "success",
            "description": "",
            "description_tooltip": null,
            "layout": "IPY_MODEL_9208fe2da02146758cee506e38c4351e",
            "max": 267954768,
            "min": 0,
            "orientation": "horizontal",
            "style": "IPY_MODEL_4059ff0f6eab4111ae7e2676aec39384",
            "value": 267954768
          }
        },
        "70306d4fba4c4a19b019d7939d9bce60": {
          "model_module": "@jupyter-widgets/controls",
          "model_name": "HTMLModel",
          "model_module_version": "1.5.0",
          "state": {
            "_dom_classes": [],
            "_model_module": "@jupyter-widgets/controls",
            "_model_module_version": "1.5.0",
            "_model_name": "HTMLModel",
            "_view_count": null,
            "_view_module": "@jupyter-widgets/controls",
            "_view_module_version": "1.5.0",
            "_view_name": "HTMLView",
            "description": "",
            "description_tooltip": null,
            "layout": "IPY_MODEL_cc35f498caa24c08ae246bb05c05fb68",
            "placeholder": "​",
            "style": "IPY_MODEL_20b77f94f1ff4d198c2139e5198ab942",
            "value": " 268M/268M [00:01&lt;00:00, 230MB/s]"
          }
        },
        "0a4fd39d5bc64820b86284b2a6f8e495": {
          "model_module": "@jupyter-widgets/base",
          "model_name": "LayoutModel",
          "model_module_version": "1.2.0",
          "state": {
            "_model_module": "@jupyter-widgets/base",
            "_model_module_version": "1.2.0",
            "_model_name": "LayoutModel",
            "_view_count": null,
            "_view_module": "@jupyter-widgets/base",
            "_view_module_version": "1.2.0",
            "_view_name": "LayoutView",
            "align_content": null,
            "align_items": null,
            "align_self": null,
            "border": null,
            "bottom": null,
            "display": null,
            "flex": null,
            "flex_flow": null,
            "grid_area": null,
            "grid_auto_columns": null,
            "grid_auto_flow": null,
            "grid_auto_rows": null,
            "grid_column": null,
            "grid_gap": null,
            "grid_row": null,
            "grid_template_areas": null,
            "grid_template_columns": null,
            "grid_template_rows": null,
            "height": null,
            "justify_content": null,
            "justify_items": null,
            "left": null,
            "margin": null,
            "max_height": null,
            "max_width": null,
            "min_height": null,
            "min_width": null,
            "object_fit": null,
            "object_position": null,
            "order": null,
            "overflow": null,
            "overflow_x": null,
            "overflow_y": null,
            "padding": null,
            "right": null,
            "top": null,
            "visibility": null,
            "width": null
          }
        },
        "8a3264411ada405789e0ac5fc261a76d": {
          "model_module": "@jupyter-widgets/base",
          "model_name": "LayoutModel",
          "model_module_version": "1.2.0",
          "state": {
            "_model_module": "@jupyter-widgets/base",
            "_model_module_version": "1.2.0",
            "_model_name": "LayoutModel",
            "_view_count": null,
            "_view_module": "@jupyter-widgets/base",
            "_view_module_version": "1.2.0",
            "_view_name": "LayoutView",
            "align_content": null,
            "align_items": null,
            "align_self": null,
            "border": null,
            "bottom": null,
            "display": null,
            "flex": null,
            "flex_flow": null,
            "grid_area": null,
            "grid_auto_columns": null,
            "grid_auto_flow": null,
            "grid_auto_rows": null,
            "grid_column": null,
            "grid_gap": null,
            "grid_row": null,
            "grid_template_areas": null,
            "grid_template_columns": null,
            "grid_template_rows": null,
            "height": null,
            "justify_content": null,
            "justify_items": null,
            "left": null,
            "margin": null,
            "max_height": null,
            "max_width": null,
            "min_height": null,
            "min_width": null,
            "object_fit": null,
            "object_position": null,
            "order": null,
            "overflow": null,
            "overflow_x": null,
            "overflow_y": null,
            "padding": null,
            "right": null,
            "top": null,
            "visibility": null,
            "width": null
          }
        },
        "0be00c292d11441d90edf8f3e002dace": {
          "model_module": "@jupyter-widgets/controls",
          "model_name": "DescriptionStyleModel",
          "model_module_version": "1.5.0",
          "state": {
            "_model_module": "@jupyter-widgets/controls",
            "_model_module_version": "1.5.0",
            "_model_name": "DescriptionStyleModel",
            "_view_count": null,
            "_view_module": "@jupyter-widgets/base",
            "_view_module_version": "1.2.0",
            "_view_name": "StyleView",
            "description_width": ""
          }
        },
        "9208fe2da02146758cee506e38c4351e": {
          "model_module": "@jupyter-widgets/base",
          "model_name": "LayoutModel",
          "model_module_version": "1.2.0",
          "state": {
            "_model_module": "@jupyter-widgets/base",
            "_model_module_version": "1.2.0",
            "_model_name": "LayoutModel",
            "_view_count": null,
            "_view_module": "@jupyter-widgets/base",
            "_view_module_version": "1.2.0",
            "_view_name": "LayoutView",
            "align_content": null,
            "align_items": null,
            "align_self": null,
            "border": null,
            "bottom": null,
            "display": null,
            "flex": null,
            "flex_flow": null,
            "grid_area": null,
            "grid_auto_columns": null,
            "grid_auto_flow": null,
            "grid_auto_rows": null,
            "grid_column": null,
            "grid_gap": null,
            "grid_row": null,
            "grid_template_areas": null,
            "grid_template_columns": null,
            "grid_template_rows": null,
            "height": null,
            "justify_content": null,
            "justify_items": null,
            "left": null,
            "margin": null,
            "max_height": null,
            "max_width": null,
            "min_height": null,
            "min_width": null,
            "object_fit": null,
            "object_position": null,
            "order": null,
            "overflow": null,
            "overflow_x": null,
            "overflow_y": null,
            "padding": null,
            "right": null,
            "top": null,
            "visibility": null,
            "width": null
          }
        },
        "4059ff0f6eab4111ae7e2676aec39384": {
          "model_module": "@jupyter-widgets/controls",
          "model_name": "ProgressStyleModel",
          "model_module_version": "1.5.0",
          "state": {
            "_model_module": "@jupyter-widgets/controls",
            "_model_module_version": "1.5.0",
            "_model_name": "ProgressStyleModel",
            "_view_count": null,
            "_view_module": "@jupyter-widgets/base",
            "_view_module_version": "1.2.0",
            "_view_name": "StyleView",
            "bar_color": null,
            "description_width": ""
          }
        },
        "cc35f498caa24c08ae246bb05c05fb68": {
          "model_module": "@jupyter-widgets/base",
          "model_name": "LayoutModel",
          "model_module_version": "1.2.0",
          "state": {
            "_model_module": "@jupyter-widgets/base",
            "_model_module_version": "1.2.0",
            "_model_name": "LayoutModel",
            "_view_count": null,
            "_view_module": "@jupyter-widgets/base",
            "_view_module_version": "1.2.0",
            "_view_name": "LayoutView",
            "align_content": null,
            "align_items": null,
            "align_self": null,
            "border": null,
            "bottom": null,
            "display": null,
            "flex": null,
            "flex_flow": null,
            "grid_area": null,
            "grid_auto_columns": null,
            "grid_auto_flow": null,
            "grid_auto_rows": null,
            "grid_column": null,
            "grid_gap": null,
            "grid_row": null,
            "grid_template_areas": null,
            "grid_template_columns": null,
            "grid_template_rows": null,
            "height": null,
            "justify_content": null,
            "justify_items": null,
            "left": null,
            "margin": null,
            "max_height": null,
            "max_width": null,
            "min_height": null,
            "min_width": null,
            "object_fit": null,
            "object_position": null,
            "order": null,
            "overflow": null,
            "overflow_x": null,
            "overflow_y": null,
            "padding": null,
            "right": null,
            "top": null,
            "visibility": null,
            "width": null
          }
        },
        "20b77f94f1ff4d198c2139e5198ab942": {
          "model_module": "@jupyter-widgets/controls",
          "model_name": "DescriptionStyleModel",
          "model_module_version": "1.5.0",
          "state": {
            "_model_module": "@jupyter-widgets/controls",
            "_model_module_version": "1.5.0",
            "_model_name": "DescriptionStyleModel",
            "_view_count": null,
            "_view_module": "@jupyter-widgets/base",
            "_view_module_version": "1.2.0",
            "_view_name": "StyleView",
            "description_width": ""
          }
        }
      }
    },
    "accelerator": "GPU"
  },
  "nbformat": 4,
  "nbformat_minor": 0
}